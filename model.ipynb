{
 "cells": [
  {
   "cell_type": "code",
   "execution_count": 2,
   "metadata": {},
   "outputs": [],
   "source": [
    "# Import required libraries\n",
    "import pandas as pd\n",
    "import requests\n",
    "from datetime import datetime\n",
    "import matplotlib.pyplot as plt\n",
    "import seaborn as sns\n",
    "\n",
    "# Set up visualization styles\n",
    "sns.set_theme(style=\"whitegrid\")\n"
   ]
  },
  {
   "cell_type": "markdown",
   "metadata": {},
   "source": [
    "QUIZ DATA"
   ]
  },
  {
   "cell_type": "code",
   "execution_count": 3,
   "metadata": {},
   "outputs": [
    {
     "name": "stdout",
     "output_type": "stream",
     "text": [
      "Quizzes Data:\n",
      "   quiz_id                                              title  \\\n",
      "0       43  Structural Organisation in Animals and Plants (7)   \n",
      "\n",
      "                                topic difficulty_level  correct_answer_marks  \\\n",
      "0  Structural Organisation in Animals             None                   4.0   \n",
      "\n",
      "   negative_marks  total_questions  \n",
      "0             1.0              128  \n"
     ]
    }
   ],
   "source": [
    "import pandas as pd\n",
    "import requests\n",
    "import json\n",
    "\n",
    "# Fetch data from API endpoints\n",
    "def fetch_data(endpoint):\n",
    "    try:\n",
    "        response = requests.get(endpoint)\n",
    "        response.raise_for_status()\n",
    "        return response.json()\n",
    "    except requests.exceptions.RequestException as e:\n",
    "        print(f\"Error fetching data from {endpoint}: {e}\")\n",
    "        return None\n",
    "\n",
    "# API Endpoints (replace with actual URLs)\n",
    "QUIZ_ENDPOINT = \"https://www.jsonkeeper.com/b/LLQT\"  # Quiz Metadata\n",
    "\n",
    "# Fetch data from endpoints\n",
    "quiz_data_raw = fetch_data(QUIZ_ENDPOINT)\n",
    "\n",
    "# Parse quiz data\n",
    "def parse_quiz_data(data):\n",
    "    quizzes = []\n",
    "    questions_list = []\n",
    "    options_list = []\n",
    "    \n",
    "    # Access the quiz data directly\n",
    "    quiz = data[\"quiz\"]\n",
    "    quiz_id = quiz[\"id\"]\n",
    "    quizzes.append({\n",
    "        \"quiz_id\": quiz_id,\n",
    "        \"title\": quiz[\"title\"],\n",
    "        \"topic\": quiz[\"topic\"],\n",
    "        \"difficulty_level\": quiz.get(\"difficulty_level\", \"Unknown\"),\n",
    "        \"correct_answer_marks\": float(quiz.get(\"correct_answer_marks\", 4.0)),\n",
    "        \"negative_marks\": float(quiz.get(\"negative_marks\", 1.0)),\n",
    "        \"total_questions\": quiz[\"questions_count\"],\n",
    "    })\n",
    "    \n",
    "    for question in quiz.get(\"questions\", []):\n",
    "        question_id = question[\"id\"]\n",
    "        questions_list.append({\n",
    "            \"quiz_id\": quiz_id,\n",
    "            \"question_id\": question_id,\n",
    "            \"description\": question[\"description\"],\n",
    "            \"difficulty_level\": question.get(\"difficulty_level\", \"Unknown\"),\n",
    "            \"topic\": question[\"topic\"],\n",
    "            \"is_published\": question[\"is_published\"]\n",
    "            # Add more fields as needed\n",
    "        })\n",
    "        \n",
    "        for option in question.get(\"options\", []):\n",
    "            options_list.append({\n",
    "                \"question_id\": question_id,\n",
    "                \"option_id\": option[\"id\"],\n",
    "                \"description\": option[\"description\"],\n",
    "                \"is_correct\": option[\"is_correct\"]\n",
    "                # Add more fields as needed\n",
    "            })\n",
    "    \n",
    "    quizzes_df = pd.DataFrame(quizzes)\n",
    "    questions_df = pd.DataFrame(questions_list)\n",
    "    options_df = pd.DataFrame(options_list)\n",
    "    \n",
    "    return quizzes_df, questions_df, options_df\n",
    "\n",
    "# Parse the quiz data\n",
    "quizzes_df, questions_df, options_df = parse_quiz_data(quiz_data_raw)\n",
    "\n",
    "# Display the structured data\n",
    "print(\"Quizzes Data:\")\n",
    "print(quizzes_df.head())"
   ]
  },
  {
   "cell_type": "code",
   "execution_count": 4,
   "metadata": {},
   "outputs": [
    {
     "name": "stdout",
     "output_type": "stream",
     "text": [
      "\n",
      "Questions Data:\n",
      "   quiz_id  question_id                                        description  \\\n",
      "0       43         1827  The tissue which has free surface that faces e...   \n",
      "1       43         1828  Epithelial tissue is distinguished from connec...   \n",
      "2       43         1829  The ciliated columnar epithelial cells in huma...   \n",
      "3       43         1830                The squamous epithelium is found in   \n",
      "4       43         1831  The kind of epithelium which forms the inner w...   \n",
      "\n",
      "  difficulty_level                                topic  is_published  \n",
      "0             None  structural organisation in animals           True  \n",
      "1             None  structural organisation in animals           True  \n",
      "2             None  structural organisation in animals           True  \n",
      "3             None  structural organisation in animals           True  \n",
      "4             None  structural organisation in animals           True  \n"
     ]
    }
   ],
   "source": [
    "print(\"\\nQuestions Data:\")\n",
    "print(questions_df.head())"
   ]
  },
  {
   "cell_type": "code",
   "execution_count": 5,
   "metadata": {},
   "outputs": [
    {
     "name": "stdout",
     "output_type": "stream",
     "text": [
      "\n",
      "Options Data:\n",
      "   question_id  option_id                 description  is_correct\n",
      "0         1827       7321             Muscular tissue       False\n",
      "1         1827       7322     Fluid connective tissue       False\n",
      "2         1827       7323           Epithelial tissue        True\n",
      "3         1827       7324              Nervous tissue       False\n",
      "4         1828       7325  large extracellular matrix       False\n"
     ]
    }
   ],
   "source": [
    "print(\"\\nOptions Data:\")\n",
    "print(options_df.head())"
   ]
  },
  {
   "cell_type": "code",
   "execution_count": 6,
   "metadata": {},
   "outputs": [
    {
     "name": "stdout",
     "output_type": "stream",
     "text": [
      "Submission Details:\n",
      "   submission_id  quiz_id                       user_id  \\\n",
      "0         336566       43  7ZXdz3zHuNcdg9agb5YpaOGLQqw2   \n",
      "\n",
      "                    submitted_at  score  trophy_level  accuracy  speed  \\\n",
      "0  2025-01-17T15:51:29.859+05:30     32             2      80.0    100   \n",
      "\n",
      "   final_score  negative_score  ...  source   type  \\\n",
      "0         30.0             2.0  ...    live  topic   \n",
      "\n",
      "                      started_at                       ended_at duration  \\\n",
      "0  2025-01-17T16:20:44.000+05:30  2025-01-17T16:21:28.000+05:30    15:00   \n",
      "\n",
      "  better_than total_questions           rank_text  mistakes_corrected  \\\n",
      "0          24             128  Topic Rank - #2402                   6   \n",
      "\n",
      "  initial_mistake_count  \n",
      "0                     8  \n",
      "\n",
      "[1 rows x 22 columns]\n"
     ]
    }
   ],
   "source": [
    "import pandas as pd\n",
    "import requests\n",
    "import json\n",
    "\n",
    "# Fetch data from API endpoint\n",
    "def fetch_data(endpoint):\n",
    "    try:\n",
    "        response = requests.get(endpoint)\n",
    "        response.raise_for_status()\n",
    "        return response.json()\n",
    "    except requests.exceptions.RequestException as e:\n",
    "        print(f\"Error fetching data from {endpoint}: {e}\")\n",
    "        return None\n",
    "\n",
    "# API Endpoint for quiz submission\n",
    "QUIZ_SUBMISSION_ENDPOINT = \"https://api.jsonserve.com/rJvd7g\"\n",
    "\n",
    "# Fetch data from endpoint\n",
    "quiz_submission_data_raw = fetch_data(QUIZ_SUBMISSION_ENDPOINT)\n",
    "\n",
    "# Parse quiz submission data\n",
    "def parse_quiz_submission_data(data):\n",
    "    # Extract main submission details\n",
    "    submission_details = {\n",
    "        \"submission_id\": data[\"id\"],\n",
    "        \"quiz_id\": data[\"quiz_id\"],\n",
    "        \"user_id\": data[\"user_id\"],\n",
    "        \"submitted_at\": data[\"submitted_at\"],\n",
    "        \"score\": data[\"score\"],\n",
    "        \"trophy_level\": data[\"trophy_level\"],\n",
    "        \"accuracy\": float(data[\"accuracy\"].strip(\" %\")),\n",
    "        \"speed\": int(data[\"speed\"]),\n",
    "        \"final_score\": float(data[\"final_score\"]),\n",
    "        \"negative_score\": float(data[\"negative_score\"]),\n",
    "        \"correct_answers\": data[\"correct_answers\"],\n",
    "        \"incorrect_answers\": data[\"incorrect_answers\"],\n",
    "        \"source\": data[\"source\"],\n",
    "        \"type\": data[\"type\"],\n",
    "        \"started_at\": data[\"started_at\"],\n",
    "        \"ended_at\": data[\"ended_at\"],\n",
    "        \"duration\": data[\"duration\"],\n",
    "        \"better_than\": data[\"better_than\"],\n",
    "        \"total_questions\": data[\"total_questions\"],\n",
    "        \"rank_text\": data[\"rank_text\"],\n",
    "        \"mistakes_corrected\": data[\"mistakes_corrected\"],\n",
    "        \"initial_mistake_count\": data[\"initial_mistake_count\"]\n",
    "    }\n",
    "    \n",
    "    # Extract response map\n",
    "    response_map = [{\"question_id\": q_id, \"option_id\": o_id} for q_id, o_id in data[\"response_map\"].items()]\n",
    "    \n",
    "    # Extract quiz details\n",
    "    quiz_details = {\n",
    "        \"quiz_id\": data[\"quiz\"][\"id\"],\n",
    "        \"title\": data[\"quiz\"][\"title\"],\n",
    "        \"topic\": data[\"quiz\"][\"topic\"],\n",
    "        \"difficulty_level\": data[\"quiz\"].get(\"difficulty_level\", \"Unknown\"),\n",
    "        \"questions_count\": data[\"quiz\"][\"questions_count\"],\n",
    "        \"correct_answer_marks\": float(data[\"quiz\"].get(\"correct_answer_marks\", 4.0)),\n",
    "        \"negative_marks\": float(data[\"quiz\"].get(\"negative_marks\", 1.0))\n",
    "    }\n",
    "    \n",
    "    # Convert to DataFrames\n",
    "    submission_df = pd.DataFrame([submission_details])\n",
    "    response_map_df = pd.DataFrame(response_map)\n",
    "    quiz_details_df = pd.DataFrame([quiz_details])\n",
    "    \n",
    "    return submission_df, response_map_df, quiz_details_df\n",
    "\n",
    "# Parse the quiz submission data\n",
    "submission_df, response_map_df, quiz_details_df = parse_quiz_submission_data(quiz_submission_data_raw)\n",
    "\n",
    "# Display the structured data\n",
    "print(\"Submission Details:\")\n",
    "print(submission_df.head())"
   ]
  },
  {
   "cell_type": "code",
   "execution_count": 7,
   "metadata": {},
   "outputs": [
    {
     "name": "stdout",
     "output_type": "stream",
     "text": [
      "\n",
      "Response Map:\n",
      "  question_id  option_id\n",
      "0        1837       7363\n",
      "1        1848       7407\n",
      "2        1852       7423\n",
      "3        1862       7464\n",
      "4        1877       7525\n"
     ]
    }
   ],
   "source": [
    "print(\"\\nResponse Map:\")\n",
    "print(response_map_df.head())\n"
   ]
  },
  {
   "cell_type": "code",
   "execution_count": 8,
   "metadata": {},
   "outputs": [
    {
     "name": "stdout",
     "output_type": "stream",
     "text": [
      "\n",
      "Quiz Details:\n",
      "   quiz_id                                              title  \\\n",
      "0       43  Structural Organisation in Animals and Plants (7)   \n",
      "\n",
      "                                topic difficulty_level  questions_count  \\\n",
      "0  Structural Organisation in Animals             None              128   \n",
      "\n",
      "   correct_answer_marks  negative_marks  \n",
      "0                   4.0             1.0  \n"
     ]
    }
   ],
   "source": [
    "print(\"\\nQuiz Details:\")\n",
    "print(quiz_details_df.head())"
   ]
  },
  {
   "cell_type": "code",
   "execution_count": 9,
   "metadata": {},
   "outputs": [
    {
     "name": "stdout",
     "output_type": "stream",
     "text": [
      "Submissions Details:\n",
      "   submission_id  quiz_id                       user_id  \\\n",
      "0         336497       51  YcDFSO4ZukTJnnFMgRNVwZTE4j42   \n",
      "1         336448        6  YcDFSO4ZukTJnnFMgRNVwZTE4j42   \n",
      "2         333330       51  YcDFSO4ZukTJnnFMgRNVwZTE4j42   \n",
      "3         333242        6  YcDFSO4ZukTJnnFMgRNVwZTE4j42   \n",
      "4         329504       51  YcDFSO4ZukTJnnFMgRNVwZTE4j42   \n",
      "\n",
      "                    submitted_at  score  trophy_level  accuracy  speed  \\\n",
      "0  2025-01-17T15:30:18.027+05:30    108             2      90.0    100   \n",
      "1  2025-01-17T15:17:44.042+05:30     92             1     100.0    100   \n",
      "2  2025-01-16T20:13:19.682+05:30    116             2      96.0    100   \n",
      "3  2025-01-16T20:00:11.562+05:30     36             2      90.0    100   \n",
      "4  2025-01-15T20:34:39.462+05:30     36             3      31.0     96   \n",
      "\n",
      "   final_score  negative_score  ...  source   type  \\\n",
      "0        105.0             3.0  ...    exam  topic   \n",
      "1         92.0             0.0  ...    exam  topic   \n",
      "2        115.0             1.0  ...    live  topic   \n",
      "3         35.0             1.0  ...    live  topic   \n",
      "4         16.0            20.0  ...    exam  topic   \n",
      "\n",
      "                      started_at                       ended_at duration  \\\n",
      "0  2025-01-17T15:18:30.000+05:30  2025-01-17T15:30:15.000+05:30    15:00   \n",
      "1  2025-01-17T15:07:45.000+05:30  2025-01-17T15:17:41.000+05:30    15:00   \n",
      "2  2025-01-16T20:01:10.000+05:30  2025-01-16T20:13:18.000+05:30    15:00   \n",
      "3  2025-01-16T19:52:57.000+05:30  2025-01-16T20:00:09.000+05:30    15:00   \n",
      "4  2025-01-15T20:21:25.000+05:30  2025-01-15T20:34:38.000+05:30    15:00   \n",
      "\n",
      "  better_than total_questions            rank_text  mistakes_corrected  \\\n",
      "0         107             100   Topic Rank - #-171                   9   \n",
      "1         395              23  Topic Rank - #-9140                   3   \n",
      "2         115             100   Topic Rank - #-418                  11   \n",
      "3         152              23  Topic Rank - #-1598                   1   \n",
      "4          35             100   Topic Rank - #2023                   0   \n",
      "\n",
      "  initial_mistake_count  \n",
      "0                    12  \n",
      "1                     3  \n",
      "2                    12  \n",
      "3                     2  \n",
      "4                    20  \n",
      "\n",
      "[5 rows x 22 columns]\n"
     ]
    }
   ],
   "source": [
    "import pandas as pd\n",
    "import requests\n",
    "import json\n",
    "\n",
    "# Fetch data from API endpoint\n",
    "def fetch_data(endpoint):\n",
    "    try:\n",
    "        response = requests.get(endpoint)\n",
    "        response.raise_for_status()\n",
    "        return response.json()\n",
    "    except requests.exceptions.RequestException as e:\n",
    "        print(f\"Error fetching data from {endpoint}: {e}\")\n",
    "        return None\n",
    "\n",
    "# API Endpoint for historical quiz data\n",
    "HISTORICAL_ENDPOINT = \"https://api.jsonserve.com/XgAgFJ\"\n",
    "\n",
    "# Fetch data from endpoint\n",
    "historical_data_raw = fetch_data(HISTORICAL_ENDPOINT)\n",
    "\n",
    "# Parse historical quiz data\n",
    "def parse_historical_data(data):\n",
    "    submissions_list = []\n",
    "    response_map_list = []\n",
    "    quiz_details_list = []\n",
    "    \n",
    "    for entry in data:\n",
    "        # Extract submission details\n",
    "        submission_details = {\n",
    "            \"submission_id\": entry[\"id\"],\n",
    "            \"quiz_id\": entry[\"quiz_id\"],\n",
    "            \"user_id\": entry[\"user_id\"],\n",
    "            \"submitted_at\": entry[\"submitted_at\"],\n",
    "            \"score\": entry[\"score\"],\n",
    "            \"trophy_level\": entry[\"trophy_level\"],\n",
    "            \"accuracy\": float(entry[\"accuracy\"].strip(\" %\")),\n",
    "            \"speed\": int(entry[\"speed\"]),\n",
    "            \"final_score\": float(entry[\"final_score\"]),\n",
    "            \"negative_score\": float(entry[\"negative_score\"]),\n",
    "            \"correct_answers\": entry[\"correct_answers\"],\n",
    "            \"incorrect_answers\": entry[\"incorrect_answers\"],\n",
    "            \"source\": entry[\"source\"],\n",
    "            \"type\": entry[\"type\"],\n",
    "            \"started_at\": entry[\"started_at\"],\n",
    "            \"ended_at\": entry[\"ended_at\"],\n",
    "            \"duration\": entry[\"duration\"],\n",
    "            \"better_than\": entry[\"better_than\"],\n",
    "            \"total_questions\": entry[\"total_questions\"],\n",
    "            \"rank_text\": entry[\"rank_text\"],\n",
    "            \"mistakes_corrected\": entry[\"mistakes_corrected\"],\n",
    "            \"initial_mistake_count\": entry[\"initial_mistake_count\"]\n",
    "        }\n",
    "        submissions_list.append(submission_details)\n",
    "        \n",
    "        # Extract response map\n",
    "        for question_id, option_id in entry[\"response_map\"].items():\n",
    "            response_map_list.append({\n",
    "                \"submission_id\": entry[\"id\"],\n",
    "                \"question_id\": question_id,\n",
    "                \"option_id\": option_id\n",
    "            })\n",
    "        \n",
    "        # Extract quiz details\n",
    "        quiz_details = {\n",
    "            \"quiz_id\": entry[\"quiz\"][\"id\"],\n",
    "            \"title\": entry[\"quiz\"][\"title\"],\n",
    "            \"topic\": entry[\"quiz\"][\"topic\"],\n",
    "            \"difficulty_level\": entry[\"quiz\"].get(\"difficulty_level\", \"Unknown\"),\n",
    "            \"questions_count\": entry[\"quiz\"][\"questions_count\"],\n",
    "            \"correct_answer_marks\": float(entry[\"quiz\"].get(\"correct_answer_marks\", 4.0)),\n",
    "            \"negative_marks\": float(entry[\"quiz\"].get(\"negative_marks\", 1.0))\n",
    "        }\n",
    "        quiz_details_list.append(quiz_details)\n",
    "    \n",
    "    # Convert to DataFrames\n",
    "    submissions_df = pd.DataFrame(submissions_list)\n",
    "    response_map_df = pd.DataFrame(response_map_list)\n",
    "    quiz_details_df = pd.DataFrame(quiz_details_list).drop_duplicates()\n",
    "    \n",
    "    return submissions_df, response_map_df, quiz_details_df\n",
    "\n",
    "# Parse the historical quiz data\n",
    "submissions_df, response_map_df, quiz_details_df = parse_historical_data(historical_data_raw)\n",
    "\n",
    "# Display the structured data\n",
    "print(\"Submissions Details:\")\n",
    "print(submissions_df.head())"
   ]
  },
  {
   "cell_type": "code",
   "execution_count": 10,
   "metadata": {},
   "outputs": [
    {
     "name": "stdout",
     "output_type": "stream",
     "text": [
      "\n",
      "Response Map:\n",
      "   submission_id question_id  option_id\n",
      "0         336497        2523      10109\n",
      "1         336497        2529      10130\n",
      "2         336497        2533      10149\n",
      "3         336497        2534      10151\n",
      "4         336497        2535      10155\n"
     ]
    }
   ],
   "source": [
    "print(\"\\nResponse Map:\")\n",
    "print(response_map_df.head())"
   ]
  },
  {
   "cell_type": "code",
   "execution_count": 11,
   "metadata": {},
   "outputs": [
    {
     "name": "stdout",
     "output_type": "stream",
     "text": [
      "\n",
      "Quiz Details:\n",
      "   quiz_id                                        title  \\\n",
      "0       51                        Human Physiology (15)   \n",
      "1        6                         Human Physiology PYQ   \n",
      "5       57                                 Reproduction   \n",
      "7       20  PRINCIPLES OF INHERITANCE AND VARIATION PYQ   \n",
      "8       24               MICROBES IN HUMAN WELFARE  PYQ   \n",
      "\n",
      "                                      topic difficulty_level  questions_count  \\\n",
      "0               Body Fluids and Circulation             None              100   \n",
      "1              Body Fluids and Circulation              None               23   \n",
      "5                        Human Reproduction             None               89   \n",
      "7  principles of inheritance and variation              None               59   \n",
      "8                 microbes in human welfare             None               20   \n",
      "\n",
      "   correct_answer_marks  negative_marks  \n",
      "0                   4.0             1.0  \n",
      "1                   4.0             1.0  \n",
      "5                   4.0             1.0  \n",
      "7                   4.0             1.0  \n",
      "8                   4.0             1.0  \n"
     ]
    }
   ],
   "source": [
    "print(\"\\nQuiz Details:\")\n",
    "print(quiz_details_df.head())"
   ]
  },
  {
   "cell_type": "code",
   "execution_count": 21,
   "metadata": {},
   "outputs": [
    {
     "name": "stdout",
     "output_type": "stream",
     "text": [
      "Weak Areas:\n",
      "                                      topic   accuracy      score  \\\n",
      "7  principles of inheritance and variation   30.000000  12.000000   \n",
      "2                        Human Reproduction  38.000000  40.000000   \n",
      "3                       Reproductive Health  43.000000  52.000000   \n",
      "4              Respiration and Gas Exchange  66.000000  24.000000   \n",
      "0               Body Fluids and Circulation  72.333333  86.666667   \n",
      "\n",
      "   correct_answers  incorrect_answers  \n",
      "7                3                  7  \n",
      "2               10                 16  \n",
      "3               13                 17  \n",
      "4                6                  3  \n",
      "0               65                 24  \n"
     ]
    }
   ],
   "source": [
    "# Merge submissions with quiz details to analyze performance by topic\n",
    "merged_df = submissions_df.merge(quiz_details_df, on='quiz_id', how='left')\n",
    "\n",
    "# Calculate average accuracy by topic\n",
    "topic_performance = merged_df.groupby('topic').agg({\n",
    "    'accuracy': 'mean',\n",
    "    'score': 'mean',\n",
    "    'correct_answers': 'sum',\n",
    "    'incorrect_answers': 'sum'\n",
    "}).reset_index()\n",
    "\n",
    "# Identify weak areas (topics with lowest average accuracy)\n",
    "weak_areas = topic_performance.sort_values(by='accuracy').head()\n",
    "\n",
    "print(\"Weak Areas:\")\n",
    "print(weak_areas)"
   ]
  },
  {
   "cell_type": "code",
   "execution_count": 45,
   "metadata": {},
   "outputs": [
    {
     "name": "stdout",
     "output_type": "stream",
     "text": [
      "\n",
      "User's Improvement Trends (Rolling Accuracy):\n",
      "                      submitted_at  accuracy  rolling_accuracy\n",
      "4 2025-01-15 20:34:39.462000+05:30      31.0         39.666667\n",
      "3 2025-01-16 20:00:11.562000+05:30      90.0         53.000000\n",
      "2 2025-01-16 20:13:19.682000+05:30      96.0         72.333333\n",
      "1 2025-01-17 15:17:44.042000+05:30     100.0         95.333333\n",
      "0 2025-01-17 15:30:18.027000+05:30      90.0         95.333333\n"
     ]
    },
    {
     "data": {
      "image/png": "[encoded data removed]",
      "text/plain": [
       "<Figure size 1200x400 with 1 Axes>"
      ]
     },
     "metadata": {},
     "output_type": "display_data"
    }
   ],
   "source": [
    "import pandas as pd\n",
    "import matplotlib.pyplot as plt\n",
    "import matplotlib.dates as mdates\n",
    "\n",
    "# Assuming you have the following DataFrame from your structured data:\n",
    "# - submissions_df: Contains user performance data for each quiz submission.\n",
    "\n",
    "# Example user_id to analyze\n",
    "user_id_to_analyze = \"YcDFSO4ZukTJnnFMgRNVwZTE4j42\"\n",
    "\n",
    "# Filter submissions for the given user\n",
    "user_submissions = submissions_df[submissions_df['user_id'] == user_id_to_analyze]\n",
    "\n",
    "# Convert 'submitted_at' to datetime and sort by date\n",
    "user_submissions['submitted_at'] = pd.to_datetime(user_submissions['submitted_at'])\n",
    "user_submissions = user_submissions.sort_values(by='submitted_at')\n",
    "\n",
    "# Calculate rolling average accuracy to identify trends\n",
    "user_submissions['rolling_accuracy'] = user_submissions['accuracy'].rolling(window=3).mean()\n",
    "\n",
    "print(\"\\nUser's Improvement Trends (Rolling Accuracy):\")\n",
    "print(user_submissions[['submitted_at', 'accuracy', 'rolling_accuracy']].tail())\n",
    "\n",
    "# Plot the trends for visualization\n",
    "plt.figure(figsize=(12, 4))\n",
    "plt.plot(user_submissions['submitted_at'], user_submissions['accuracy'], label='Accuracy', marker='o')\n",
    "plt.plot(user_submissions['submitted_at'], user_submissions['rolling_accuracy'], label='Rolling Accuracy', linestyle='--')\n",
    "\n",
    "# Improve date formatting on x-axis\n",
    "plt.gca().xaxis.set_major_formatter(mdates.DateFormatter('%Y-%m-%d'))\n",
    "plt.gca().xaxis.set_major_locator(mdates.WeekdayLocator(interval=1))  # Show one tick per week\n",
    "plt.gcf().autofmt_xdate()\n",
    "\n",
    "plt.xlabel('Submission Date')\n",
    "plt.ylabel('Accuracy')\n",
    "plt.title('User Improvement Trends Over Time')\n",
    "plt.legend()\n",
    "plt.grid(True)\n",
    "plt.tight_layout()\n",
    "plt.show()"
   ]
  },
  {
   "cell_type": "code",
   "execution_count": 36,
   "metadata": {},
   "outputs": [
    {
     "name": "stdout",
     "output_type": "stream",
     "text": [
      "\n",
      "User's Performance Gaps:\n",
      "                       submitted_at  accuracy  score  quiz_id\n",
      "13 2024-12-11 20:36:44.822000+05:30      66.0     24       50\n",
      "12 2024-12-28 22:58:52.969000+05:30      43.0     52       58\n",
      "9  2025-01-13 13:12:40.687000+05:30     100.0     40       18\n",
      "7  2025-01-13 16:10:03.743000+05:30      30.0     12       20\n",
      "6  2025-01-15 15:36:46.410000+05:30      50.0     36        6\n",
      "5  2025-01-15 15:57:12.791000+05:30      38.0     40       57\n",
      "4  2025-01-15 20:34:39.462000+05:30      31.0     36       51\n",
      "3  2025-01-16 20:00:11.562000+05:30      90.0     36        6\n"
     ]
    }
   ],
   "source": [
    "import pandas as pd\n",
    "\n",
    "# Assuming you have the following DataFrame from your structured data:\n",
    "# - submissions_df: Contains user performance data for each quiz submission.\n",
    "\n",
    "# Example user_id to analyze\n",
    "user_id_to_analyze = \"YcDFSO4ZukTJnnFMgRNVwZTE4j42\"\n",
    "\n",
    "# Filter submissions for the given user\n",
    "user_submissions = submissions_df[submissions_df['user_id'] == user_id_to_analyze]\n",
    "\n",
    "# Calculate overall average accuracy and score\n",
    "overall_average_accuracy = submissions_df['accuracy'].mean()\n",
    "overall_average_score = submissions_df['score'].mean()\n",
    "\n",
    "# Compare user's performance to overall averages\n",
    "user_performance_gaps = user_submissions[\n",
    "    (user_submissions['accuracy'] < overall_average_accuracy) |\n",
    "    (user_submissions['score'] < overall_average_score)\n",
    "]\n",
    "\n",
    "# Display the performance gaps\n",
    "print(\"\\nUser's Performance Gaps:\")\n",
    "print(user_performance_gaps[['submitted_at', 'accuracy', 'score', 'quiz_id']])"
   ]
  },
  {
   "cell_type": "code",
   "execution_count": 38,
   "metadata": {},
   "outputs": [
    {
     "name": "stdout",
     "output_type": "stream",
     "text": [
      "\n",
      "Recommendations for Improvement:\n",
      "- Focus on improving your understanding of 'principles of inheritance and variation '. Consider reviewing study materials and practicing related questions.\n",
      "- Focus on improving your understanding of 'Human Reproduction'. Consider reviewing study materials and practicing related questions.\n",
      "- Focus on improving your understanding of 'Reproductive Health'. Consider reviewing study materials and practicing related questions.\n",
      "- Focus on improving your understanding of 'Respiration and Gas Exchange'. Consider reviewing study materials and practicing related questions.\n",
      "- Focus on improving your understanding of 'Body Fluids and Circulation'. Consider reviewing study materials and practicing related questions.\n",
      "- Review your performance in quiz ID 50. Analyze mistakes and revisit the concepts.\n",
      "- Review your performance in quiz ID 58. Analyze mistakes and revisit the concepts.\n",
      "- Review your performance in quiz ID 18. Analyze mistakes and revisit the concepts.\n",
      "- Review your performance in quiz ID 20. Analyze mistakes and revisit the concepts.\n",
      "- Review your performance in quiz ID 6. Analyze mistakes and revisit the concepts.\n",
      "- Review your performance in quiz ID 57. Analyze mistakes and revisit the concepts.\n",
      "- Review your performance in quiz ID 51. Analyze mistakes and revisit the concepts.\n",
      "- Review your performance in quiz ID 6. Analyze mistakes and revisit the concepts.\n",
      "- Set specific goals for each quiz to track your progress.\n",
      "- Engage in regular practice to maintain and enhance your performance trends.\n",
      "- Seek feedback from peers or instructors to gain different perspectives.\n"
     ]
    }
   ],
   "source": [
    "import pandas as pd\n",
    "\n",
    "# Assuming you have the following DataFrame from your structured data:\n",
    "# - submissions_df: Contains user performance data for each quiz submission.\n",
    "# - quiz_details_df: Contains details about each quiz, including topics.\n",
    "\n",
    "# Example user_id to analyze\n",
    "user_id_to_analyze = \"YcDFSO4ZukTJnnFMgRNVwZTE4j42\"\n",
    "\n",
    "# Filter submissions for the given user\n",
    "user_submissions = submissions_df[submissions_df['user_id'] == user_id_to_analyze]\n",
    "\n",
    "# Merge with quiz details to get topics\n",
    "user_merged_df = user_submissions.merge(quiz_details_df, on='quiz_id', how='left')\n",
    "\n",
    "# Calculate average accuracy by topic for the user\n",
    "user_topic_performance = user_merged_df.groupby('topic').agg({\n",
    "    'accuracy': 'mean',\n",
    "    'score': 'mean',\n",
    "    'correct_answers': 'sum',\n",
    "    'incorrect_answers': 'sum'\n",
    "}).reset_index()\n",
    "\n",
    "# Identify weak areas for the user (topics with lowest average accuracy)\n",
    "user_weak_areas = user_topic_performance.sort_values(by='accuracy').head()\n",
    "\n",
    "# Calculate overall average accuracy and score\n",
    "overall_average_accuracy = submissions_df['accuracy'].mean()\n",
    "overall_average_score = submissions_df['score'].mean()\n",
    "\n",
    "# Compare user's performance to overall averages\n",
    "user_performance_gaps = user_submissions[\n",
    "    (user_submissions['accuracy'] < overall_average_accuracy) |\n",
    "    (user_submissions['score'] < overall_average_score)\n",
    "]\n",
    "\n",
    "# Generate recommendations based on weak areas\n",
    "def generate_recommendations(user_weak_areas, user_performance_gaps):\n",
    "    recommendations = []\n",
    "\n",
    "    # Focus on weak topics\n",
    "    for index, row in user_weak_areas.iterrows():\n",
    "        topic = row['topic']\n",
    "        recommendations.append(f\"Focus on improving your understanding of '{topic}'. Consider reviewing study materials and practicing related questions.\")\n",
    "\n",
    "    # Address performance gaps\n",
    "    for index, row in user_performance_gaps.iterrows():\n",
    "        quiz_id = row['quiz_id']\n",
    "        recommendations.append(f\"Review your performance in quiz ID {quiz_id}. Analyze mistakes and revisit the concepts.\")\n",
    "\n",
    "    # General improvement strategies\n",
    "    recommendations.append(\"Set specific goals for each quiz to track your progress.\")\n",
    "    recommendations.append(\"Engage in regular practice to maintain and enhance your performance trends.\")\n",
    "    recommendations.append(\"Seek feedback from peers or instructors to gain different perspectives.\")\n",
    "\n",
    "    return recommendations\n",
    "\n",
    "# Example usage\n",
    "recommendations = generate_recommendations(user_weak_areas, user_performance_gaps)\n",
    "\n",
    "# Display recommendations\n",
    "print(\"\\nRecommendations for Improvement:\")\n",
    "for rec in recommendations:\n",
    "    print(f\"- {rec}\")"
   ]
  },
  {
   "cell_type": "code",
   "execution_count": 49,
   "metadata": {},
   "outputs": [
    {
     "name": "stdout",
     "output_type": "stream",
     "text": [
      "\n",
      "Student Persona:\n",
      "Strengths: human health and disease , microbes in human welfare, reproductive health \n",
      "Weaknesses: Human Reproduction, Reproductive Health, principles of inheritance and variation \n",
      "Learning Style: Consistent Improver\n"
     ]
    }
   ],
   "source": [
    "import pandas as pd\n",
    "\n",
    "# Assuming you have the following DataFrames:\n",
    "# - user_weak_areas: Contains topics where the user's accuracy is low.\n",
    "# - user_topic_performance: Contains average accuracy by topic for the user.\n",
    "\n",
    "# Example user_id to analyze\n",
    "user_id_to_analyze = \"YcDFSO4ZukTJnnFMgRNVwZTE4j42\"\n",
    "\n",
    "# Define student persona based on performance patterns\n",
    "def define_student_persona(user_topic_performance):\n",
    "    strengths = user_topic_performance[user_topic_performance['accuracy'] > 80]\n",
    "    weaknesses = user_topic_performance[user_topic_performance['accuracy'] < 50]\n",
    "\n",
    "    persona = {\n",
    "        \"strengths\": strengths['topic'].tolist(),\n",
    "        \"weaknesses\": weaknesses['topic'].tolist(),\n",
    "        \"learning_style\": \"Consistent Improver\" if not weaknesses.empty else \"Needs Focused Practice\"\n",
    "    }\n",
    "\n",
    "    return persona\n",
    "\n",
    "# Example usage\n",
    "student_persona = define_student_persona(user_topic_performance)\n",
    "\n",
    "# Display student persona\n",
    "print(\"\\nStudent Persona:\")\n",
    "print(f\"Strengths: {', '.join(student_persona['strengths'])}\")\n",
    "print(f\"Weaknesses: {', '.join(student_persona['weaknesses'])}\")\n",
    "print(f\"Learning Style: {student_persona['learning_style']}\")\n",
    "\n"
   ]
  },
  {
   "cell_type": "code",
   "execution_count": 44,
   "metadata": {},
   "outputs": [
    {
     "data": {
      "image/png": "[encoded data removed]",
      "text/plain": [
       "<Figure size 1000x400 with 1 Axes>"
      ]
     },
     "metadata": {},
     "output_type": "display_data"
    }
   ],
   "source": [
    "import pandas as pd\n",
    "import matplotlib.pyplot as plt\n",
    "\n",
    "# Assuming you have the following DataFrame:\n",
    "# - user_performance_gaps: Contains submissions where the user's performance was below average.\n",
    "\n",
    "# Example DataFrame: user_performance_gaps\n",
    "# Assuming 'user_performance_gaps' contains 'quiz_id', 'accuracy', and 'score'\n",
    "\n",
    "# Create a bar chart for performance gaps\n",
    "plt.figure(figsize=(10, 4))\n",
    "plt.bar(user_performance_gaps['quiz_id'], user_performance_gaps['accuracy'], color='salmon', label='Accuracy')\n",
    "plt.bar(user_performance_gaps['quiz_id'], user_performance_gaps['score'], color='lightblue', label='Score', alpha=0.7)\n",
    "\n",
    "plt.xlabel('Quiz ID')\n",
    "plt.ylabel('Performance Metrics')\n",
    "plt.title('User Performance Gaps by Quiz')\n",
    "plt.legend()\n",
    "plt.grid(axis='y', linestyle='--', alpha=0.7)\n",
    "plt.tight_layout()\n",
    "\n",
    "# Save the plot as an image file\n",
    "plt.savefig('user_performance_gaps.png')\n",
    "\n",
    "# Show the plot\n",
    "plt.show()"
   ]
  },
  {
   "cell_type": "code",
   "execution_count": null,
   "metadata": {},
   "outputs": [],
   "source": []
  },
  {
   "cell_type": "code",
   "execution_count": null,
   "metadata": {},
   "outputs": [],
   "source": []
  },
  {
   "cell_type": "code",
   "execution_count": null,
   "metadata": {},
   "outputs": [],
   "source": []
  },
  {
   "cell_type": "code",
   "execution_count": null,
   "metadata": {},
   "outputs": [],
   "source": []
  },
  {
   "cell_type": "code",
   "execution_count": null,
   "metadata": {},
   "outputs": [],
   "source": []
  },
  {
   "cell_type": "code",
   "execution_count": null,
   "metadata": {},
   "outputs": [],
   "source": []
  },
  {
   "cell_type": "code",
   "execution_count": null,
   "metadata": {},
   "outputs": [],
   "source": []
  },
  {
   "cell_type": "code",
   "execution_count": null,
   "metadata": {},
   "outputs": [],
   "source": []
  },
  {
   "cell_type": "code",
   "execution_count": null,
   "metadata": {},
   "outputs": [],
   "source": []
  },
  {
   "cell_type": "code",
   "execution_count": null,
   "metadata": {},
   "outputs": [],
   "source": []
  },
  {
   "cell_type": "code",
   "execution_count": null,
   "metadata": {},
   "outputs": [],
   "source": []
  },
  {
   "cell_type": "code",
   "execution_count": null,
   "metadata": {},
   "outputs": [],
   "source": []
  },
  {
   "cell_type": "code",
   "execution_count": null,
   "metadata": {},
   "outputs": [],
   "source": []
  },
  {
   "cell_type": "code",
   "execution_count": null,
   "metadata": {},
   "outputs": [],
   "source": []
  },
  {
   "cell_type": "code",
   "execution_count": null,
   "metadata": {},
   "outputs": [],
   "source": []
  },
  {
   "cell_type": "code",
   "execution_count": null,
   "metadata": {},
   "outputs": [],
   "source": []
  },
  {
   "cell_type": "code",
   "execution_count": null,
   "metadata": {},
   "outputs": [],
   "source": []
  },
  {
   "cell_type": "code",
   "execution_count": null,
   "metadata": {},
   "outputs": [],
   "source": []
  },
  {
   "cell_type": "code",
   "execution_count": null,
   "metadata": {},
   "outputs": [],
   "source": []
  },
  {
   "cell_type": "code",
   "execution_count": null,
   "metadata": {},
   "outputs": [],
   "source": []
  },
  {
   "cell_type": "code",
   "execution_count": null,
   "metadata": {},
   "outputs": [],
   "source": []
  },
  {
   "cell_type": "code",
   "execution_count": null,
   "metadata": {},
   "outputs": [],
   "source": []
  },
  {
   "cell_type": "code",
   "execution_count": null,
   "metadata": {},
   "outputs": [],
   "source": []
  },
  {
   "cell_type": "code",
   "execution_count": null,
   "metadata": {},
   "outputs": [],
   "source": []
  },
  {
   "cell_type": "code",
   "execution_count": null,
   "metadata": {},
   "outputs": [],
   "source": []
  },
  {
   "cell_type": "code",
   "execution_count": null,
   "metadata": {},
   "outputs": [],
   "source": []
  },
  {
   "cell_type": "code",
   "execution_count": null,
   "metadata": {},
   "outputs": [],
   "source": []
  },
  {
   "cell_type": "code",
   "execution_count": null,
   "metadata": {},
   "outputs": [],
   "source": []
  }
 ],
 "metadata": {
  "kernelspec": {
   "display_name": "Python 3",
   "language": "python",
   "name": "python3"
  },
  "language_info": {
   "codemirror_mode": {
    "name": "ipython",
    "version": 3
   },
   "file_extension": ".py",
   "mimetype": "text/x-python",
   "name": "python",
   "nbconvert_exporter": "python",
   "pygments_lexer": "ipython3",
   "version": "3.9.1"
  }
 },
 "nbformat": 4,
 "nbformat_minor": 2
}
